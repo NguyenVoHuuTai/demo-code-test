{
 "cells": [
  {
   "cell_type": "code",
   "execution_count": 2,
   "metadata": {},
   "outputs": [
    {
     "name": "stdout",
     "output_type": "stream",
     "text": [
      "So ban dau là:  9656694675624576426724627626724723427624672316548465135456412318648465123165484651354564123186484651\n",
      "So dao nguoc la:  1564846813214654531564845613215648468132146545315648456132764267243274276267264276246754265764966569\n"
     ]
    }
   ],
   "source": [
    "n = 9656694675624576426724627626724723427624672316548465135456412318648465123165484651354564123186484651\n",
    "\n",
    "so_dao_nguoc = 0\n",
    "\n",
    "if n < 0 :\n",
    "    luu_so_n = -1 * n\n",
    "# elif n > -10 and n < 10:\n",
    "#     print(\"So \" + str(n) + \" co so dao nguoc la \" + str(n))\n",
    "#     exit()\n",
    "elif n >= 0:\n",
    "    luu_so_n = n\n",
    "\n",
    "for i in range(0, len(str(luu_so_n))):\n",
    "    so_dao_nguoc = so_dao_nguoc * 10 + luu_so_n % 10\n",
    "    luu_so_n = luu_so_n // 10\n",
    "\n",
    "if n < 0 :\n",
    "    so_dao_nguoc = -1 * so_dao_nguoc\n",
    "elif n > 0:\n",
    "    so_dao_nguoc = so_dao_nguoc\n",
    "\n",
    "print(\"So ban dau là: \", n)\n",
    "print(\"So dao nguoc la: \", so_dao_nguoc)"
   ]
  },
  {
   "cell_type": "code",
   "execution_count": 1,
   "metadata": {},
   "outputs": [
    {
     "name": "stdout",
     "output_type": "stream",
     "text": [
      "\u001b[95m--- DRACULA THEME DEMO ---\u001b[0m\n",
      "\u001b[94m1. \u001b[92mXanh lá - Thành công!\u001b[0m\n",
      "\u001b[94m2. \u001b[91mĐỏ - Cảnh báo!\u001b[0m\n",
      "\u001b[94m3. \u001b[93mVàng - Chú ý!\u001b[0m\n",
      "\u001b[94m4. \u001b[96mCyan - Thông tin!\u001b[0m\n",
      "\u001b[95m--- END DEMO ---\u001b[0m\n"
     ]
    }
   ],
   "source": [
    "def dracula_demo():\n",
    "    print(\"\\033[95m--- DRACULA THEME DEMO ---\\033[0m\")  # 💜 Màu tím (Tiêu đề)\n",
    "    print(\"\\033[94m1. \\033[92mXanh lá - Thành công!\\033[0m\")  # 🟢 Xanh lá\n",
    "    print(\"\\033[94m2. \\033[91mĐỏ - Cảnh báo!\\033[0m\")  # 🔴 Đỏ\n",
    "    print(\"\\033[94m3. \\033[93mVàng - Chú ý!\\033[0m\")  # 🟡 Vàng\n",
    "    print(\"\\033[94m4. \\033[96mCyan - Thông tin!\\033[0m\")  # 🔵 Cyan\n",
    "    print(\"\\033[95m--- END DEMO ---\\033[0m\")  # 💜 Màu tím\n",
    "\n",
    "dracula_demo()"
   ]
  }
 ],
 "metadata": {
  "kernelspec": {
   "display_name": "Python 3",
   "language": "python",
   "name": "python3"
  },
  "language_info": {
   "codemirror_mode": {
    "name": "ipython",
    "version": 3
   },
   "file_extension": ".py",
   "mimetype": "text/x-python",
   "name": "python",
   "nbconvert_exporter": "python",
   "pygments_lexer": "ipython3",
   "version": "3.11.3"
  }
 },
 "nbformat": 4,
 "nbformat_minor": 2
}
